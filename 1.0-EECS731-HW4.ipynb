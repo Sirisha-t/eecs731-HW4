{
 "cells": [
  {
   "cell_type": "code",
   "execution_count": 254,
   "metadata": {
    "collapsed": true
   },
   "outputs": [],
   "source": [
    "import pandas as pd\n",
    "import numpy as np\n",
    "import seaborn as sns\n",
    "sns.set(style = \"whitegrid\")\n",
    "import matplotlib.pyplot as plt\n",
    "from sklearn.model_selection import train_test_split\n",
    "from sklearn.metrics import accuracy_score\n",
    "\n",
    "import seaborn as sns\n",
    "import matplotlib.pyplot as plt\n",
    "\n",
    "import nltk\n",
    "import string\n",
    "import re\n",
    "\n",
    "from sklearn import datasets, linear_model\n",
    "from sklearn.metrics import mean_squared_error, r2_score\n",
    "\n",
    "%matplotlib inline"
   ]
  },
  {
   "cell_type": "code",
   "execution_count": 3,
   "metadata": {
    "collapsed": true
   },
   "outputs": [],
   "source": [
    "# Read input NBA dataset\n",
    "df = pd.read_csv(\"nba_elo.csv\")"
   ]
  },
  {
   "cell_type": "markdown",
   "metadata": {},
   "source": [
    "# Exploratory Data Analysis"
   ]
  },
  {
   "cell_type": "code",
   "execution_count": 4,
   "metadata": {
    "collapsed": false
   },
   "outputs": [
    {
     "data": {
      "text/plain": [
       "Index([u'date', u'season', u'neutral', u'playoff', u'team1', u'team2',\n",
       "       u'elo1_pre', u'elo2_pre', u'elo_prob1', u'elo_prob2', u'elo1_post',\n",
       "       u'elo2_post', u'carmelo1_pre', u'carmelo2_pre', u'carmelo1_post',\n",
       "       u'carmelo2_post', u'carmelo_prob1', u'carmelo_prob2', u'score1',\n",
       "       u'score2'],\n",
       "      dtype='object')"
      ]
     },
     "execution_count": 4,
     "metadata": {},
     "output_type": "execute_result"
    }
   ],
   "source": [
    "df.columns"
   ]
  },
  {
   "cell_type": "code",
   "execution_count": 6,
   "metadata": {
    "collapsed": false
   },
   "outputs": [
    {
     "data": {
      "text/html": [
       "<div>\n",
       "<table border=\"1\" class=\"dataframe\">\n",
       "  <thead>\n",
       "    <tr style=\"text-align: right;\">\n",
       "      <th></th>\n",
       "      <th>date</th>\n",
       "      <th>season</th>\n",
       "      <th>neutral</th>\n",
       "      <th>playoff</th>\n",
       "      <th>team1</th>\n",
       "      <th>team2</th>\n",
       "      <th>elo1_pre</th>\n",
       "      <th>elo2_pre</th>\n",
       "      <th>elo_prob1</th>\n",
       "      <th>elo_prob2</th>\n",
       "      <th>elo1_post</th>\n",
       "      <th>elo2_post</th>\n",
       "      <th>carmelo1_pre</th>\n",
       "      <th>carmelo2_pre</th>\n",
       "      <th>carmelo1_post</th>\n",
       "      <th>carmelo2_post</th>\n",
       "      <th>carmelo_prob1</th>\n",
       "      <th>carmelo_prob2</th>\n",
       "      <th>score1</th>\n",
       "      <th>score2</th>\n",
       "    </tr>\n",
       "  </thead>\n",
       "  <tbody>\n",
       "    <tr>\n",
       "      <th>0</th>\n",
       "      <td>1946-11-01</td>\n",
       "      <td>1947</td>\n",
       "      <td>0</td>\n",
       "      <td>NaN</td>\n",
       "      <td>TRH</td>\n",
       "      <td>NYK</td>\n",
       "      <td>1300.0</td>\n",
       "      <td>1300.0000</td>\n",
       "      <td>0.640065</td>\n",
       "      <td>0.359935</td>\n",
       "      <td>1293.2767</td>\n",
       "      <td>1306.7233</td>\n",
       "      <td>NaN</td>\n",
       "      <td>NaN</td>\n",
       "      <td>NaN</td>\n",
       "      <td>NaN</td>\n",
       "      <td>NaN</td>\n",
       "      <td>NaN</td>\n",
       "      <td>66</td>\n",
       "      <td>68</td>\n",
       "    </tr>\n",
       "    <tr>\n",
       "      <th>1</th>\n",
       "      <td>1946-11-02</td>\n",
       "      <td>1947</td>\n",
       "      <td>0</td>\n",
       "      <td>NaN</td>\n",
       "      <td>CHS</td>\n",
       "      <td>NYK</td>\n",
       "      <td>1300.0</td>\n",
       "      <td>1306.7233</td>\n",
       "      <td>0.631101</td>\n",
       "      <td>0.368899</td>\n",
       "      <td>1309.6521</td>\n",
       "      <td>1297.0712</td>\n",
       "      <td>NaN</td>\n",
       "      <td>NaN</td>\n",
       "      <td>NaN</td>\n",
       "      <td>NaN</td>\n",
       "      <td>NaN</td>\n",
       "      <td>NaN</td>\n",
       "      <td>63</td>\n",
       "      <td>47</td>\n",
       "    </tr>\n",
       "    <tr>\n",
       "      <th>2</th>\n",
       "      <td>1946-11-02</td>\n",
       "      <td>1947</td>\n",
       "      <td>0</td>\n",
       "      <td>NaN</td>\n",
       "      <td>PRO</td>\n",
       "      <td>BOS</td>\n",
       "      <td>1300.0</td>\n",
       "      <td>1300.0000</td>\n",
       "      <td>0.640065</td>\n",
       "      <td>0.359935</td>\n",
       "      <td>1305.1542</td>\n",
       "      <td>1294.8458</td>\n",
       "      <td>NaN</td>\n",
       "      <td>NaN</td>\n",
       "      <td>NaN</td>\n",
       "      <td>NaN</td>\n",
       "      <td>NaN</td>\n",
       "      <td>NaN</td>\n",
       "      <td>59</td>\n",
       "      <td>53</td>\n",
       "    </tr>\n",
       "    <tr>\n",
       "      <th>3</th>\n",
       "      <td>1946-11-02</td>\n",
       "      <td>1947</td>\n",
       "      <td>0</td>\n",
       "      <td>NaN</td>\n",
       "      <td>STB</td>\n",
       "      <td>PIT</td>\n",
       "      <td>1300.0</td>\n",
       "      <td>1300.0000</td>\n",
       "      <td>0.640065</td>\n",
       "      <td>0.359935</td>\n",
       "      <td>1304.6908</td>\n",
       "      <td>1295.3092</td>\n",
       "      <td>NaN</td>\n",
       "      <td>NaN</td>\n",
       "      <td>NaN</td>\n",
       "      <td>NaN</td>\n",
       "      <td>NaN</td>\n",
       "      <td>NaN</td>\n",
       "      <td>56</td>\n",
       "      <td>51</td>\n",
       "    </tr>\n",
       "    <tr>\n",
       "      <th>4</th>\n",
       "      <td>1946-11-02</td>\n",
       "      <td>1947</td>\n",
       "      <td>0</td>\n",
       "      <td>NaN</td>\n",
       "      <td>DTF</td>\n",
       "      <td>WSC</td>\n",
       "      <td>1300.0</td>\n",
       "      <td>1300.0000</td>\n",
       "      <td>0.640065</td>\n",
       "      <td>0.359935</td>\n",
       "      <td>1279.6189</td>\n",
       "      <td>1320.3811</td>\n",
       "      <td>NaN</td>\n",
       "      <td>NaN</td>\n",
       "      <td>NaN</td>\n",
       "      <td>NaN</td>\n",
       "      <td>NaN</td>\n",
       "      <td>NaN</td>\n",
       "      <td>33</td>\n",
       "      <td>50</td>\n",
       "    </tr>\n",
       "  </tbody>\n",
       "</table>\n",
       "</div>"
      ],
      "text/plain": [
       "         date  season  neutral playoff team1 team2  elo1_pre   elo2_pre  \\\n",
       "0  1946-11-01    1947        0     NaN   TRH   NYK    1300.0  1300.0000   \n",
       "1  1946-11-02    1947        0     NaN   CHS   NYK    1300.0  1306.7233   \n",
       "2  1946-11-02    1947        0     NaN   PRO   BOS    1300.0  1300.0000   \n",
       "3  1946-11-02    1947        0     NaN   STB   PIT    1300.0  1300.0000   \n",
       "4  1946-11-02    1947        0     NaN   DTF   WSC    1300.0  1300.0000   \n",
       "\n",
       "   elo_prob1  elo_prob2  elo1_post  elo2_post  carmelo1_pre  carmelo2_pre  \\\n",
       "0   0.640065   0.359935  1293.2767  1306.7233           NaN           NaN   \n",
       "1   0.631101   0.368899  1309.6521  1297.0712           NaN           NaN   \n",
       "2   0.640065   0.359935  1305.1542  1294.8458           NaN           NaN   \n",
       "3   0.640065   0.359935  1304.6908  1295.3092           NaN           NaN   \n",
       "4   0.640065   0.359935  1279.6189  1320.3811           NaN           NaN   \n",
       "\n",
       "   carmelo1_post  carmelo2_post  carmelo_prob1  carmelo_prob2  score1  score2  \n",
       "0            NaN            NaN            NaN            NaN      66      68  \n",
       "1            NaN            NaN            NaN            NaN      63      47  \n",
       "2            NaN            NaN            NaN            NaN      59      53  \n",
       "3            NaN            NaN            NaN            NaN      56      51  \n",
       "4            NaN            NaN            NaN            NaN      33      50  "
      ]
     },
     "execution_count": 6,
     "metadata": {},
     "output_type": "execute_result"
    }
   ],
   "source": [
    "df.head()"
   ]
  },
  {
   "cell_type": "markdown",
   "metadata": {},
   "source": [
    "Elo ratings are a measure of team strength based on head-to-head results, margin of victory and quality of opponent, while our CARMELO projections estimate a player’s future performance based on the trajectory of other, similar NBA players. Our CARM-Elo ratings, which power the forecast model, blend these two metrics to measure a team's quality based on both its game results and its roster. This forecast is based on 50,000 simulations of the rest of the season and accounts for team fatigue, travel distance to games, and home courts with higher altitudes. In forecasting the playoffs, the model also gives a bonus to teams with more playoff experience on their roster. In forecasting the draft lottery, the model takes unprotected draft picks into account. [https://projects.fivethirtyeight.com/2018-nba-predictions/]"
   ]
  },
  {
   "cell_type": "code",
   "execution_count": 7,
   "metadata": {
    "collapsed": false
   },
   "outputs": [
    {
     "data": {
      "text/plain": [
       "(67094, 20)"
      ]
     },
     "execution_count": 7,
     "metadata": {},
     "output_type": "execute_result"
    }
   ],
   "source": [
    "df.shape"
   ]
  },
  {
   "cell_type": "markdown",
   "metadata": {},
   "source": [
    "As the shape suggests,the dataset contains ~67000 instances and 20 attributes "
   ]
  },
  {
   "cell_type": "code",
   "execution_count": 159,
   "metadata": {
    "collapsed": false
   },
   "outputs": [
    {
     "data": {
      "text/plain": [
       "<matplotlib.axes._subplots.AxesSubplot at 0x121007910>"
      ]
     },
     "execution_count": 159,
     "metadata": {},
     "output_type": "execute_result"
    },
    {
     "data": {
      "image/png": "[encoded data removed]",
      "text/plain": [
       "<Figure size 720x720 with 2 Axes>"
      ]
     },
     "metadata": {},
     "output_type": "display_data"
    }
   ],
   "source": [
    "#Plotting correlation among all features in our dataframe\n",
    "\n",
    "fig, ax = plt.subplots(figsize=(10,10)) \n",
    "cor = df.corr()\n",
    "sns.heatmap(cor, square = True, linewidths=.5, ax=ax)"
   ]
  },
  {
   "cell_type": "code",
   "execution_count": 11,
   "metadata": {
    "collapsed": false
   },
   "outputs": [
    {
     "name": "stderr",
     "output_type": "stream",
     "text": [
      "/Users/sirishat/anaconda/lib/python2.7/site-packages/numpy/lib/function_base.py:3834: RuntimeWarning: Invalid value encountered in percentile\n",
      "  RuntimeWarning)\n"
     ]
    },
    {
     "data": {
      "text/html": [
       "<div>\n",
       "<table border=\"1\" class=\"dataframe\">\n",
       "  <thead>\n",
       "    <tr style=\"text-align: right;\">\n",
       "      <th></th>\n",
       "      <th>season</th>\n",
       "      <th>neutral</th>\n",
       "      <th>elo1_pre</th>\n",
       "      <th>elo2_pre</th>\n",
       "      <th>elo_prob1</th>\n",
       "      <th>elo_prob2</th>\n",
       "      <th>elo1_post</th>\n",
       "      <th>elo2_post</th>\n",
       "      <th>carmelo1_pre</th>\n",
       "      <th>carmelo2_pre</th>\n",
       "      <th>carmelo1_post</th>\n",
       "      <th>carmelo2_post</th>\n",
       "      <th>carmelo_prob1</th>\n",
       "      <th>carmelo_prob2</th>\n",
       "      <th>score1</th>\n",
       "      <th>score2</th>\n",
       "    </tr>\n",
       "  </thead>\n",
       "  <tbody>\n",
       "    <tr>\n",
       "      <th>count</th>\n",
       "      <td>67094.000000</td>\n",
       "      <td>67094.000000</td>\n",
       "      <td>67094.000000</td>\n",
       "      <td>67094.000000</td>\n",
       "      <td>67094.000000</td>\n",
       "      <td>67094.000000</td>\n",
       "      <td>67094.000000</td>\n",
       "      <td>67094.000000</td>\n",
       "      <td>3937.000000</td>\n",
       "      <td>3937.000000</td>\n",
       "      <td>3937.000000</td>\n",
       "      <td>3937.000000</td>\n",
       "      <td>3937.000000</td>\n",
       "      <td>3937.000000</td>\n",
       "      <td>67094.000000</td>\n",
       "      <td>67094.000000</td>\n",
       "    </tr>\n",
       "    <tr>\n",
       "      <th>mean</th>\n",
       "      <td>1989.890244</td>\n",
       "      <td>0.000402</td>\n",
       "      <td>1496.130655</td>\n",
       "      <td>1496.374871</td>\n",
       "      <td>0.621156</td>\n",
       "      <td>0.378844</td>\n",
       "      <td>1496.091962</td>\n",
       "      <td>1496.413564</td>\n",
       "      <td>1514.063424</td>\n",
       "      <td>1511.790884</td>\n",
       "      <td>1513.012250</td>\n",
       "      <td>1512.842057</td>\n",
       "      <td>0.627628</td>\n",
       "      <td>0.372372</td>\n",
       "      <td>104.694295</td>\n",
       "      <td>101.005112</td>\n",
       "    </tr>\n",
       "    <tr>\n",
       "      <th>std</th>\n",
       "      <td>18.353471</td>\n",
       "      <td>0.020057</td>\n",
       "      <td>112.541205</td>\n",
       "      <td>111.973834</td>\n",
       "      <td>0.178271</td>\n",
       "      <td>0.178271</td>\n",
       "      <td>112.997297</td>\n",
       "      <td>112.158110</td>\n",
       "      <td>119.434553</td>\n",
       "      <td>119.060992</td>\n",
       "      <td>119.884060</td>\n",
       "      <td>119.026822</td>\n",
       "      <td>0.192276</td>\n",
       "      <td>0.192276</td>\n",
       "      <td>14.837538</td>\n",
       "      <td>14.280889</td>\n",
       "    </tr>\n",
       "    <tr>\n",
       "      <th>min</th>\n",
       "      <td>1947.000000</td>\n",
       "      <td>0.000000</td>\n",
       "      <td>1105.617800</td>\n",
       "      <td>1091.644500</td>\n",
       "      <td>0.062616</td>\n",
       "      <td>0.018315</td>\n",
       "      <td>1100.291900</td>\n",
       "      <td>1085.774400</td>\n",
       "      <td>1187.730784</td>\n",
       "      <td>1192.842155</td>\n",
       "      <td>1187.730784</td>\n",
       "      <td>1192.004524</td>\n",
       "      <td>0.060474</td>\n",
       "      <td>0.013407</td>\n",
       "      <td>2.000000</td>\n",
       "      <td>0.000000</td>\n",
       "    </tr>\n",
       "    <tr>\n",
       "      <th>25%</th>\n",
       "      <td>1975.000000</td>\n",
       "      <td>0.000000</td>\n",
       "      <td>1418.390450</td>\n",
       "      <td>1418.476450</td>\n",
       "      <td>0.498694</td>\n",
       "      <td>0.240387</td>\n",
       "      <td>1417.754550</td>\n",
       "      <td>1418.616875</td>\n",
       "      <td>NaN</td>\n",
       "      <td>NaN</td>\n",
       "      <td>NaN</td>\n",
       "      <td>NaN</td>\n",
       "      <td>NaN</td>\n",
       "      <td>NaN</td>\n",
       "      <td>95.000000</td>\n",
       "      <td>92.000000</td>\n",
       "    </tr>\n",
       "    <tr>\n",
       "      <th>50%</th>\n",
       "      <td>1992.000000</td>\n",
       "      <td>0.000000</td>\n",
       "      <td>1501.363800</td>\n",
       "      <td>1502.459350</td>\n",
       "      <td>0.640045</td>\n",
       "      <td>0.359955</td>\n",
       "      <td>1501.409100</td>\n",
       "      <td>1502.342150</td>\n",
       "      <td>NaN</td>\n",
       "      <td>NaN</td>\n",
       "      <td>NaN</td>\n",
       "      <td>NaN</td>\n",
       "      <td>NaN</td>\n",
       "      <td>NaN</td>\n",
       "      <td>105.000000</td>\n",
       "      <td>101.000000</td>\n",
       "    </tr>\n",
       "    <tr>\n",
       "      <th>75%</th>\n",
       "      <td>2006.000000</td>\n",
       "      <td>0.000000</td>\n",
       "      <td>1576.469050</td>\n",
       "      <td>1575.943150</td>\n",
       "      <td>0.759613</td>\n",
       "      <td>0.501306</td>\n",
       "      <td>1576.623625</td>\n",
       "      <td>1576.220050</td>\n",
       "      <td>NaN</td>\n",
       "      <td>NaN</td>\n",
       "      <td>NaN</td>\n",
       "      <td>NaN</td>\n",
       "      <td>NaN</td>\n",
       "      <td>NaN</td>\n",
       "      <td>114.000000</td>\n",
       "      <td>110.000000</td>\n",
       "    </tr>\n",
       "    <tr>\n",
       "      <th>max</th>\n",
       "      <td>2018.000000</td>\n",
       "      <td>1.000000</td>\n",
       "      <td>1855.779115</td>\n",
       "      <td>1865.449075</td>\n",
       "      <td>0.981685</td>\n",
       "      <td>0.937384</td>\n",
       "      <td>1860.313175</td>\n",
       "      <td>1865.449075</td>\n",
       "      <td>1872.690559</td>\n",
       "      <td>1881.619599</td>\n",
       "      <td>1876.930941</td>\n",
       "      <td>1881.619599</td>\n",
       "      <td>0.986593</td>\n",
       "      <td>0.939526</td>\n",
       "      <td>184.000000</td>\n",
       "      <td>186.000000</td>\n",
       "    </tr>\n",
       "  </tbody>\n",
       "</table>\n",
       "</div>"
      ],
      "text/plain": [
       "             season       neutral      elo1_pre      elo2_pre     elo_prob1  \\\n",
       "count  67094.000000  67094.000000  67094.000000  67094.000000  67094.000000   \n",
       "mean    1989.890244      0.000402   1496.130655   1496.374871      0.621156   \n",
       "std       18.353471      0.020057    112.541205    111.973834      0.178271   \n",
       "min     1947.000000      0.000000   1105.617800   1091.644500      0.062616   \n",
       "25%     1975.000000      0.000000   1418.390450   1418.476450      0.498694   \n",
       "50%     1992.000000      0.000000   1501.363800   1502.459350      0.640045   \n",
       "75%     2006.000000      0.000000   1576.469050   1575.943150      0.759613   \n",
       "max     2018.000000      1.000000   1855.779115   1865.449075      0.981685   \n",
       "\n",
       "          elo_prob2     elo1_post     elo2_post  carmelo1_pre  carmelo2_pre  \\\n",
       "count  67094.000000  67094.000000  67094.000000   3937.000000   3937.000000   \n",
       "mean       0.378844   1496.091962   1496.413564   1514.063424   1511.790884   \n",
       "std        0.178271    112.997297    112.158110    119.434553    119.060992   \n",
       "min        0.018315   1100.291900   1085.774400   1187.730784   1192.842155   \n",
       "25%        0.240387   1417.754550   1418.616875           NaN           NaN   \n",
       "50%        0.359955   1501.409100   1502.342150           NaN           NaN   \n",
       "75%        0.501306   1576.623625   1576.220050           NaN           NaN   \n",
       "max        0.937384   1860.313175   1865.449075   1872.690559   1881.619599   \n",
       "\n",
       "       carmelo1_post  carmelo2_post  carmelo_prob1  carmelo_prob2  \\\n",
       "count    3937.000000    3937.000000    3937.000000    3937.000000   \n",
       "mean     1513.012250    1512.842057       0.627628       0.372372   \n",
       "std       119.884060     119.026822       0.192276       0.192276   \n",
       "min      1187.730784    1192.004524       0.060474       0.013407   \n",
       "25%              NaN            NaN            NaN            NaN   \n",
       "50%              NaN            NaN            NaN            NaN   \n",
       "75%              NaN            NaN            NaN            NaN   \n",
       "max      1876.930941    1881.619599       0.986593       0.939526   \n",
       "\n",
       "             score1        score2  \n",
       "count  67094.000000  67094.000000  \n",
       "mean     104.694295    101.005112  \n",
       "std       14.837538     14.280889  \n",
       "min        2.000000      0.000000  \n",
       "25%       95.000000     92.000000  \n",
       "50%      105.000000    101.000000  \n",
       "75%      114.000000    110.000000  \n",
       "max      184.000000    186.000000  "
      ]
     },
     "execution_count": 11,
     "metadata": {},
     "output_type": "execute_result"
    }
   ],
   "source": [
    "df.describe()"
   ]
  },
  {
   "cell_type": "code",
   "execution_count": 12,
   "metadata": {
    "collapsed": false
   },
   "outputs": [
    {
     "data": {
      "image/png": "[encoded data removed]",
      "text/plain": [
       "<Figure size 432x288 with 1 Axes>"
      ]
     },
     "metadata": {},
     "output_type": "display_data"
    }
   ],
   "source": [
    "line = plt.figure()\n",
    "plt.plot(df[\"score1\"]);"
   ]
  },
  {
   "cell_type": "code",
   "execution_count": 13,
   "metadata": {
    "collapsed": false
   },
   "outputs": [
    {
     "data": {
      "image/png": "[encoded data removed]",
      "text/plain": [
       "<Figure size 432x288 with 1 Axes>"
      ]
     },
     "metadata": {},
     "output_type": "display_data"
    }
   ],
   "source": [
    "line = plt.figure()\n",
    "plt.plot(df[\"score2\"]);"
   ]
  },
  {
   "cell_type": "code",
   "execution_count": 14,
   "metadata": {
    "collapsed": false
   },
   "outputs": [
    {
     "data": {
      "text/plain": [
       "date                 0\n",
       "season               0\n",
       "neutral              0\n",
       "playoff          62814\n",
       "team1                0\n",
       "team2                0\n",
       "elo1_pre             0\n",
       "elo2_pre             0\n",
       "elo_prob1            0\n",
       "elo_prob2            0\n",
       "elo1_post            0\n",
       "elo2_post            0\n",
       "carmelo1_pre     63157\n",
       "carmelo2_pre     63157\n",
       "carmelo1_post    63157\n",
       "carmelo2_post    63157\n",
       "carmelo_prob1    63157\n",
       "carmelo_prob2    63157\n",
       "score1               0\n",
       "score2               0\n",
       "dtype: int64"
      ]
     },
     "execution_count": 14,
     "metadata": {},
     "output_type": "execute_result"
    }
   ],
   "source": [
    "df.isnull().sum()"
   ]
  },
  {
   "cell_type": "markdown",
   "metadata": {},
   "source": [
    "Since we can see that almost 90% of the fields for columns with carmelo predictions are null. This makes sense because when compated to the Elo predictions, the Carmelo predictions are relatively new. For our analysis purposes, having so many null values will not be very useful. Since the dataset contains two different predictions, I have decided to only use the Elo predictions for building my model."
   ]
  },
  {
   "cell_type": "code",
   "execution_count": 25,
   "metadata": {
    "collapsed": false
   },
   "outputs": [],
   "source": [
    "df = df.drop(['playoff'],axis=1)"
   ]
  },
  {
   "cell_type": "code",
   "execution_count": null,
   "metadata": {
    "collapsed": true
   },
   "outputs": [],
   "source": [
    "df = df.drop(['carmelo1_pre', 'carmelo2_pre', 'carmelo1_post', 'carmelo2_post',\n",
    "        'carmelo_prob1', 'carmelo_prob2'],axis=1)"
   ]
  },
  {
   "cell_type": "markdown",
   "metadata": {},
   "source": [
    "Removed all the Carmelo columns, along with playoffs column "
   ]
  },
  {
   "cell_type": "code",
   "execution_count": 28,
   "metadata": {
    "collapsed": false
   },
   "outputs": [
    {
     "data": {
      "text/html": [
       "<div>\n",
       "<table border=\"1\" class=\"dataframe\">\n",
       "  <thead>\n",
       "    <tr style=\"text-align: right;\">\n",
       "      <th></th>\n",
       "      <th>date</th>\n",
       "      <th>season</th>\n",
       "      <th>neutral</th>\n",
       "      <th>team1</th>\n",
       "      <th>team2</th>\n",
       "      <th>elo1_pre</th>\n",
       "      <th>elo2_pre</th>\n",
       "      <th>elo_prob1</th>\n",
       "      <th>elo_prob2</th>\n",
       "      <th>elo1_post</th>\n",
       "      <th>elo2_post</th>\n",
       "      <th>score1</th>\n",
       "      <th>score2</th>\n",
       "    </tr>\n",
       "  </thead>\n",
       "  <tbody>\n",
       "    <tr>\n",
       "      <th>0</th>\n",
       "      <td>1946-11-01</td>\n",
       "      <td>1947</td>\n",
       "      <td>0</td>\n",
       "      <td>TRH</td>\n",
       "      <td>NYK</td>\n",
       "      <td>1300.0</td>\n",
       "      <td>1300.0000</td>\n",
       "      <td>0.640065</td>\n",
       "      <td>0.359935</td>\n",
       "      <td>1293.2767</td>\n",
       "      <td>1306.7233</td>\n",
       "      <td>66</td>\n",
       "      <td>68</td>\n",
       "    </tr>\n",
       "    <tr>\n",
       "      <th>1</th>\n",
       "      <td>1946-11-02</td>\n",
       "      <td>1947</td>\n",
       "      <td>0</td>\n",
       "      <td>CHS</td>\n",
       "      <td>NYK</td>\n",
       "      <td>1300.0</td>\n",
       "      <td>1306.7233</td>\n",
       "      <td>0.631101</td>\n",
       "      <td>0.368899</td>\n",
       "      <td>1309.6521</td>\n",
       "      <td>1297.0712</td>\n",
       "      <td>63</td>\n",
       "      <td>47</td>\n",
       "    </tr>\n",
       "    <tr>\n",
       "      <th>2</th>\n",
       "      <td>1946-11-02</td>\n",
       "      <td>1947</td>\n",
       "      <td>0</td>\n",
       "      <td>PRO</td>\n",
       "      <td>BOS</td>\n",
       "      <td>1300.0</td>\n",
       "      <td>1300.0000</td>\n",
       "      <td>0.640065</td>\n",
       "      <td>0.359935</td>\n",
       "      <td>1305.1542</td>\n",
       "      <td>1294.8458</td>\n",
       "      <td>59</td>\n",
       "      <td>53</td>\n",
       "    </tr>\n",
       "    <tr>\n",
       "      <th>3</th>\n",
       "      <td>1946-11-02</td>\n",
       "      <td>1947</td>\n",
       "      <td>0</td>\n",
       "      <td>STB</td>\n",
       "      <td>PIT</td>\n",
       "      <td>1300.0</td>\n",
       "      <td>1300.0000</td>\n",
       "      <td>0.640065</td>\n",
       "      <td>0.359935</td>\n",
       "      <td>1304.6908</td>\n",
       "      <td>1295.3092</td>\n",
       "      <td>56</td>\n",
       "      <td>51</td>\n",
       "    </tr>\n",
       "    <tr>\n",
       "      <th>4</th>\n",
       "      <td>1946-11-02</td>\n",
       "      <td>1947</td>\n",
       "      <td>0</td>\n",
       "      <td>DTF</td>\n",
       "      <td>WSC</td>\n",
       "      <td>1300.0</td>\n",
       "      <td>1300.0000</td>\n",
       "      <td>0.640065</td>\n",
       "      <td>0.359935</td>\n",
       "      <td>1279.6189</td>\n",
       "      <td>1320.3811</td>\n",
       "      <td>33</td>\n",
       "      <td>50</td>\n",
       "    </tr>\n",
       "  </tbody>\n",
       "</table>\n",
       "</div>"
      ],
      "text/plain": [
       "         date  season  neutral team1 team2  elo1_pre   elo2_pre  elo_prob1  \\\n",
       "0  1946-11-01    1947        0   TRH   NYK    1300.0  1300.0000   0.640065   \n",
       "1  1946-11-02    1947        0   CHS   NYK    1300.0  1306.7233   0.631101   \n",
       "2  1946-11-02    1947        0   PRO   BOS    1300.0  1300.0000   0.640065   \n",
       "3  1946-11-02    1947        0   STB   PIT    1300.0  1300.0000   0.640065   \n",
       "4  1946-11-02    1947        0   DTF   WSC    1300.0  1300.0000   0.640065   \n",
       "\n",
       "   elo_prob2  elo1_post  elo2_post  score1  score2  \n",
       "0   0.359935  1293.2767  1306.7233      66      68  \n",
       "1   0.368899  1309.6521  1297.0712      63      47  \n",
       "2   0.359935  1305.1542  1294.8458      59      53  \n",
       "3   0.359935  1304.6908  1295.3092      56      51  \n",
       "4   0.359935  1279.6189  1320.3811      33      50  "
      ]
     },
     "execution_count": 28,
     "metadata": {},
     "output_type": "execute_result"
    }
   ],
   "source": [
    "df.head()"
   ]
  },
  {
   "cell_type": "code",
   "execution_count": 29,
   "metadata": {
    "collapsed": false
   },
   "outputs": [
    {
     "data": {
      "text/plain": [
       "date         0\n",
       "season       0\n",
       "neutral      0\n",
       "team1        0\n",
       "team2        0\n",
       "elo1_pre     0\n",
       "elo2_pre     0\n",
       "elo_prob1    0\n",
       "elo_prob2    0\n",
       "elo1_post    0\n",
       "elo2_post    0\n",
       "score1       0\n",
       "score2       0\n",
       "dtype: int64"
      ]
     },
     "execution_count": 29,
     "metadata": {},
     "output_type": "execute_result"
    }
   ],
   "source": [
    "df.isnull().sum()"
   ]
  },
  {
   "cell_type": "markdown",
   "metadata": {},
   "source": [
    "Now the dataset contains no null values"
   ]
  },
  {
   "cell_type": "markdown",
   "metadata": {},
   "source": [
    "# Feature Engineering"
   ]
  },
  {
   "cell_type": "code",
   "execution_count": 32,
   "metadata": {
    "collapsed": false
   },
   "outputs": [
    {
     "data": {
      "text/plain": [
       "team1\n",
       "ANA      41\n",
       "AND      38\n",
       "ATL    2162\n",
       "BAL     486\n",
       "BLB     278\n",
       "dtype: int64"
      ]
     },
     "execution_count": 32,
     "metadata": {},
     "output_type": "execute_result"
    }
   ],
   "source": [
    "group1 = df.groupby('team1')\n",
    "group1.size().head()"
   ]
  },
  {
   "cell_type": "code",
   "execution_count": 44,
   "metadata": {
    "collapsed": true
   },
   "outputs": [],
   "source": [
    "#Function for getting the total number of games played by each team\n",
    "def num_of_games(team):\n",
    "    return len(df.loc[df[\"team1\"] == team])+len(df.loc[df[\"team2\"] == team])"
   ]
  },
  {
   "cell_type": "code",
   "execution_count": 37,
   "metadata": {
    "collapsed": false
   },
   "outputs": [
    {
     "data": {
      "text/plain": [
       "102"
      ]
     },
     "execution_count": 37,
     "metadata": {},
     "output_type": "execute_result"
    }
   ],
   "source": [
    "#Getting the list of all the teams present(unique)\n",
    "\n",
    "teams = set(df[\"team1\"]).union(set(df[\"team2\"]))\n",
    "len(teams)"
   ]
  },
  {
   "cell_type": "code",
   "execution_count": 50,
   "metadata": {
    "collapsed": false
   },
   "outputs": [],
   "source": [
    "#Calling the function to store total number of games played by each team. X contains the list of all teams, y contains\n",
    "# count of total games played by them\n",
    "\n",
    "x = list(teams)\n",
    "y = [num_of_games(i) for i in x]\n"
   ]
  },
  {
   "cell_type": "code",
   "execution_count": 51,
   "metadata": {
    "collapsed": false
   },
   "outputs": [
    {
     "data": {
      "text/html": [
       "<div>\n",
       "<table border=\"1\" class=\"dataframe\">\n",
       "  <thead>\n",
       "    <tr style=\"text-align: right;\">\n",
       "      <th></th>\n",
       "      <th>0</th>\n",
       "      <th>1</th>\n",
       "      <th>2</th>\n",
       "      <th>3</th>\n",
       "      <th>4</th>\n",
       "      <th>5</th>\n",
       "      <th>6</th>\n",
       "      <th>7</th>\n",
       "      <th>8</th>\n",
       "      <th>9</th>\n",
       "      <th>...</th>\n",
       "      <th>92</th>\n",
       "      <th>93</th>\n",
       "      <th>94</th>\n",
       "      <th>95</th>\n",
       "      <th>96</th>\n",
       "      <th>97</th>\n",
       "      <th>98</th>\n",
       "      <th>99</th>\n",
       "      <th>100</th>\n",
       "      <th>101</th>\n",
       "    </tr>\n",
       "  </thead>\n",
       "  <tbody>\n",
       "    <tr>\n",
       "      <th>0</th>\n",
       "      <td>MIL</td>\n",
       "      <td>GSW</td>\n",
       "      <td>MIN</td>\n",
       "      <td>MIA</td>\n",
       "      <td>BOS</td>\n",
       "      <td>OAK</td>\n",
       "      <td>NYK</td>\n",
       "      <td>NYN</td>\n",
       "      <td>NYA</td>\n",
       "      <td>SAC</td>\n",
       "      <td>...</td>\n",
       "      <td>UTA</td>\n",
       "      <td>STB</td>\n",
       "      <td>STL</td>\n",
       "      <td>MLH</td>\n",
       "      <td>UTS</td>\n",
       "      <td>HOU</td>\n",
       "      <td>SDR</td>\n",
       "      <td>SDS</td>\n",
       "      <td>SDA</td>\n",
       "      <td>SDC</td>\n",
       "    </tr>\n",
       "    <tr>\n",
       "      <th>1</th>\n",
       "      <td>4293</td>\n",
       "      <td>4009</td>\n",
       "      <td>2382</td>\n",
       "      <td>2636</td>\n",
       "      <td>6286</td>\n",
       "      <td>172</td>\n",
       "      <td>6015</td>\n",
       "      <td>82</td>\n",
       "      <td>736</td>\n",
       "      <td>2734</td>\n",
       "      <td>...</td>\n",
       "      <td>3413</td>\n",
       "      <td>249</td>\n",
       "      <td>1121</td>\n",
       "      <td>281</td>\n",
       "      <td>499</td>\n",
       "      <td>4099</td>\n",
       "      <td>334</td>\n",
       "      <td>11</td>\n",
       "      <td>263</td>\n",
       "      <td>492</td>\n",
       "    </tr>\n",
       "  </tbody>\n",
       "</table>\n",
       "<p>2 rows × 102 columns</p>\n",
       "</div>"
      ],
      "text/plain": [
       "    0     1     2     3     4    5     6    7    8     9   ...    92   93   \\\n",
       "0   MIL   GSW   MIN   MIA   BOS  OAK   NYK  NYN  NYA   SAC ...    UTA  STB   \n",
       "1  4293  4009  2382  2636  6286  172  6015   82  736  2734 ...   3413  249   \n",
       "\n",
       "    94   95   96    97   98   99   100  101  \n",
       "0   STL  MLH  UTS   HOU  SDR  SDS  SDA  SDC  \n",
       "1  1121  281  499  4099  334   11  263  492  \n",
       "\n",
       "[2 rows x 102 columns]"
      ]
     },
     "execution_count": 51,
     "metadata": {},
     "output_type": "execute_result"
    }
   ],
   "source": [
    "total_games = pd.DataFrame([x,y])\n",
    "total_games"
   ]
  },
  {
   "cell_type": "code",
   "execution_count": 54,
   "metadata": {
    "collapsed": false
   },
   "outputs": [
    {
     "data": {
      "image/png": "[encoded data removed]",
      "text/plain": [
       "<Figure size 432x288 with 1 Axes>"
      ]
     },
     "metadata": {},
     "output_type": "display_data"
    }
   ],
   "source": [
    "plt.figure()\n",
    "bins = np.linspace(60, 180, 100)\n",
    "plt.title(\"Scores of team1 and team2\")\n",
    "plt.xlabel(\"Points\")\n",
    "plt.ylabel(\"Frequency\")\n",
    "plt.hist(df[\"score1\"],bins, alpha=0.5)\n",
    "plt.hist(df[\"score2\"],bins, alpha=0.5)\n",
    "plt.show()"
   ]
  },
  {
   "cell_type": "code",
   "execution_count": 57,
   "metadata": {
    "collapsed": true
   },
   "outputs": [],
   "source": [
    "#Getting winning and losing teams scores from the dataframe\n",
    "scores = pd.DataFrame([df[\"score1\"],df[\"score2\"]])\n",
    "winner_scores = scores.max(0)\n",
    "looser_scores = scores.min(0)"
   ]
  },
  {
   "cell_type": "code",
   "execution_count": 72,
   "metadata": {
    "collapsed": false
   },
   "outputs": [
    {
     "data": {
      "image/png": "[encoded data removed]",
      "text/plain": [
       "<Figure size 432x288 with 1 Axes>"
      ]
     },
     "metadata": {},
     "output_type": "display_data"
    }
   ],
   "source": [
    "#Plotting winning vs losing scores\n",
    "plt.figure()\n",
    "bins = np.linspace(60, 180, 100)\n",
    "plt.title(\"Winner and Loser Scores\")\n",
    "plt.xlabel(\"Points\")\n",
    "plt.ylabel(\"Frequency\")\n",
    "plt.hist(winner_scores,bins, alpha=0.5)\n",
    "plt.hist(looser_scores,bins, alpha=0.5)\n",
    "plt.show()"
   ]
  },
  {
   "cell_type": "markdown",
   "metadata": {},
   "source": [
    "Let's assume that Team1 is the home team and Team 2 is the Away team"
   ]
  },
  {
   "cell_type": "code",
   "execution_count": 66,
   "metadata": {
    "collapsed": true
   },
   "outputs": [],
   "source": [
    "#Copying the dataframe into another df\n",
    "nba = df"
   ]
  },
  {
   "cell_type": "code",
   "execution_count": 67,
   "metadata": {
    "collapsed": false
   },
   "outputs": [
    {
     "data": {
      "text/html": [
       "<div>\n",
       "<table border=\"1\" class=\"dataframe\">\n",
       "  <thead>\n",
       "    <tr style=\"text-align: right;\">\n",
       "      <th></th>\n",
       "      <th>date</th>\n",
       "      <th>season</th>\n",
       "      <th>neutral</th>\n",
       "      <th>team1</th>\n",
       "      <th>team2</th>\n",
       "      <th>elo1_pre</th>\n",
       "      <th>elo2_pre</th>\n",
       "      <th>elo_prob1</th>\n",
       "      <th>elo_prob2</th>\n",
       "      <th>elo1_post</th>\n",
       "      <th>elo2_post</th>\n",
       "      <th>score1</th>\n",
       "      <th>score2</th>\n",
       "    </tr>\n",
       "  </thead>\n",
       "  <tbody>\n",
       "    <tr>\n",
       "      <th>0</th>\n",
       "      <td>1946-11-01</td>\n",
       "      <td>1947</td>\n",
       "      <td>0</td>\n",
       "      <td>TRH</td>\n",
       "      <td>NYK</td>\n",
       "      <td>1300.0</td>\n",
       "      <td>1300.0000</td>\n",
       "      <td>0.640065</td>\n",
       "      <td>0.359935</td>\n",
       "      <td>1293.2767</td>\n",
       "      <td>1306.7233</td>\n",
       "      <td>66</td>\n",
       "      <td>68</td>\n",
       "    </tr>\n",
       "    <tr>\n",
       "      <th>1</th>\n",
       "      <td>1946-11-02</td>\n",
       "      <td>1947</td>\n",
       "      <td>0</td>\n",
       "      <td>CHS</td>\n",
       "      <td>NYK</td>\n",
       "      <td>1300.0</td>\n",
       "      <td>1306.7233</td>\n",
       "      <td>0.631101</td>\n",
       "      <td>0.368899</td>\n",
       "      <td>1309.6521</td>\n",
       "      <td>1297.0712</td>\n",
       "      <td>63</td>\n",
       "      <td>47</td>\n",
       "    </tr>\n",
       "    <tr>\n",
       "      <th>2</th>\n",
       "      <td>1946-11-02</td>\n",
       "      <td>1947</td>\n",
       "      <td>0</td>\n",
       "      <td>PRO</td>\n",
       "      <td>BOS</td>\n",
       "      <td>1300.0</td>\n",
       "      <td>1300.0000</td>\n",
       "      <td>0.640065</td>\n",
       "      <td>0.359935</td>\n",
       "      <td>1305.1542</td>\n",
       "      <td>1294.8458</td>\n",
       "      <td>59</td>\n",
       "      <td>53</td>\n",
       "    </tr>\n",
       "    <tr>\n",
       "      <th>3</th>\n",
       "      <td>1946-11-02</td>\n",
       "      <td>1947</td>\n",
       "      <td>0</td>\n",
       "      <td>STB</td>\n",
       "      <td>PIT</td>\n",
       "      <td>1300.0</td>\n",
       "      <td>1300.0000</td>\n",
       "      <td>0.640065</td>\n",
       "      <td>0.359935</td>\n",
       "      <td>1304.6908</td>\n",
       "      <td>1295.3092</td>\n",
       "      <td>56</td>\n",
       "      <td>51</td>\n",
       "    </tr>\n",
       "    <tr>\n",
       "      <th>4</th>\n",
       "      <td>1946-11-02</td>\n",
       "      <td>1947</td>\n",
       "      <td>0</td>\n",
       "      <td>DTF</td>\n",
       "      <td>WSC</td>\n",
       "      <td>1300.0</td>\n",
       "      <td>1300.0000</td>\n",
       "      <td>0.640065</td>\n",
       "      <td>0.359935</td>\n",
       "      <td>1279.6189</td>\n",
       "      <td>1320.3811</td>\n",
       "      <td>33</td>\n",
       "      <td>50</td>\n",
       "    </tr>\n",
       "  </tbody>\n",
       "</table>\n",
       "</div>"
      ],
      "text/plain": [
       "         date  season  neutral team1 team2  elo1_pre   elo2_pre  elo_prob1  \\\n",
       "0  1946-11-01    1947        0   TRH   NYK    1300.0  1300.0000   0.640065   \n",
       "1  1946-11-02    1947        0   CHS   NYK    1300.0  1306.7233   0.631101   \n",
       "2  1946-11-02    1947        0   PRO   BOS    1300.0  1300.0000   0.640065   \n",
       "3  1946-11-02    1947        0   STB   PIT    1300.0  1300.0000   0.640065   \n",
       "4  1946-11-02    1947        0   DTF   WSC    1300.0  1300.0000   0.640065   \n",
       "\n",
       "   elo_prob2  elo1_post  elo2_post  score1  score2  \n",
       "0   0.359935  1293.2767  1306.7233      66      68  \n",
       "1   0.368899  1309.6521  1297.0712      63      47  \n",
       "2   0.359935  1305.1542  1294.8458      59      53  \n",
       "3   0.359935  1304.6908  1295.3092      56      51  \n",
       "4   0.359935  1279.6189  1320.3811      33      50  "
      ]
     },
     "execution_count": 67,
     "metadata": {},
     "output_type": "execute_result"
    }
   ],
   "source": [
    "nba.head()"
   ]
  },
  {
   "cell_type": "code",
   "execution_count": 68,
   "metadata": {
    "collapsed": false
   },
   "outputs": [
    {
     "data": {
      "text/plain": [
       "0    False\n",
       "1     True\n",
       "2     True\n",
       "3     True\n",
       "4    False\n",
       "dtype: bool"
      ]
     },
     "execution_count": 68,
     "metadata": {},
     "output_type": "execute_result"
    }
   ],
   "source": [
    "# Create a new feature that says true or false, based on whether the home team wins or loses respectively. \n",
    "y = nba[\"score1\"]>nba[\"score2\"]\n",
    "y.head()"
   ]
  },
  {
   "cell_type": "code",
   "execution_count": 71,
   "metadata": {
    "collapsed": false
   },
   "outputs": [
    {
     "data": {
      "image/png": "[encoded data removed]",
      "text/plain": [
       "<Figure size 432x288 with 1 Axes>"
      ]
     },
     "metadata": {},
     "output_type": "display_data"
    }
   ],
   "source": [
    "# Plotting the home teams wins and losses\n",
    "plt.hist(y, density=True);"
   ]
  },
  {
   "cell_type": "markdown",
   "metadata": {},
   "source": [
    "As we can see from the histogram above, the accuracy of the home team(team1) winning is over 60%"
   ]
  },
  {
   "cell_type": "code",
   "execution_count": 96,
   "metadata": {
    "collapsed": false
   },
   "outputs": [
    {
     "data": {
      "text/plain": [
       "array([False,  True,  True, ...,  True, False, False], dtype=bool)"
      ]
     },
     "execution_count": 96,
     "metadata": {},
     "output_type": "execute_result"
    }
   ],
   "source": [
    "# Create a feature that analyses the wins and loses based on elo probability predictions \n",
    "n=len(nba[\"elo_prob1\"])\n",
    "y = nba[\"score1\"]>nba[\"score2\"]\n",
    "y2=np.zeros(n)\n",
    "elo_winner=np.zeros(n)\n",
    "elo_loser=np.zeros(n)\n",
    "for i in range(n):\n",
    "    if y[i]:\n",
    "        elo_winner[i]=nba[\"elo_prob1\"][id]\n",
    "        elo_loser[i]=nba[\"elo_prob2\"][id]\n",
    "    else:\n",
    "        elo_winner[i]=nba[\"elo_prob2\"][id]\n",
    "        elo_loser[i]=nba[\"elo_prob1\"][id]\n",
    "\n",
    "y2 = elo_winner <= elo_loser\n",
    "y2"
   ]
  },
  {
   "cell_type": "code",
   "execution_count": 97,
   "metadata": {
    "collapsed": false
   },
   "outputs": [
    {
     "data": {
      "image/png": "[encoded data removed]",
      "text/plain": [
       "<Figure size 432x288 with 1 Axes>"
      ]
     },
     "metadata": {},
     "output_type": "display_data"
    }
   ],
   "source": [
    "# Accuracy of above classifier with elo probabilities\n",
    "plt.hist(y2, density=True);"
   ]
  },
  {
   "cell_type": "markdown",
   "metadata": {},
   "source": [
    "As we can see from the plot above, the chances of the teams win based on elo probabilities is >60%"
   ]
  },
  {
   "cell_type": "code",
   "execution_count": 98,
   "metadata": {
    "collapsed": false
   },
   "outputs": [
    {
     "data": {
      "text/plain": [
       "array([False,  True,  True, ...,  True, False, False], dtype=bool)"
      ]
     },
     "execution_count": 98,
     "metadata": {},
     "output_type": "execute_result"
    }
   ],
   "source": [
    "# Create a feature that analyses the wins and loses based on elo post match ratings \n",
    "n=len(nba[\"elo1_post\"])\n",
    "y = nba[\"score1\"]>nba[\"score2\"]\n",
    "y2=np.zeros(n)\n",
    "elo_winner=np.zeros(n)\n",
    "elo_loser=np.zeros(n)\n",
    "for i in range(n):\n",
    "    if y[i]:\n",
    "        elo_winner[i]=nba[\"elo1_post\"][id]\n",
    "        elo_loser[i]=nba[\"elo2_post\"][id]\n",
    "    else:\n",
    "        elo_winner[i]=nba[\"elo2_post\"][id]\n",
    "        elo_loser[i]=nba[\"elo1_post\"][id]\n",
    "\n",
    "y2 = elo_winner <= elo_loser\n",
    "y2"
   ]
  },
  {
   "cell_type": "code",
   "execution_count": 99,
   "metadata": {
    "collapsed": false
   },
   "outputs": [
    {
     "data": {
      "image/png": "[encoded data removed]",
      "text/plain": [
       "<Figure size 432x288 with 1 Axes>"
      ]
     },
     "metadata": {},
     "output_type": "display_data"
    }
   ],
   "source": [
    "# Accuracy of above classifier with post match elo ratings \n",
    "plt.hist(y2, density=True);"
   ]
  },
  {
   "cell_type": "markdown",
   "metadata": {},
   "source": [
    "Even using the post match ratings from Elo, the accuracy of prediction seems to be >60%, which is similar to their probability values"
   ]
  },
  {
   "cell_type": "code",
   "execution_count": 357,
   "metadata": {
    "collapsed": false
   },
   "outputs": [
    {
     "data": {
      "text/html": [
       "<div>\n",
       "<table border=\"1\" class=\"dataframe\">\n",
       "  <thead>\n",
       "    <tr style=\"text-align: right;\">\n",
       "      <th></th>\n",
       "      <th>date</th>\n",
       "      <th>season</th>\n",
       "      <th>neutral</th>\n",
       "      <th>team1</th>\n",
       "      <th>team2</th>\n",
       "      <th>elo1_pre</th>\n",
       "      <th>elo2_pre</th>\n",
       "      <th>elo_prob1</th>\n",
       "      <th>elo_prob2</th>\n",
       "      <th>elo1_post</th>\n",
       "      <th>elo2_post</th>\n",
       "      <th>score1</th>\n",
       "      <th>score2</th>\n",
       "      <th>team1_wins</th>\n",
       "    </tr>\n",
       "  </thead>\n",
       "  <tbody>\n",
       "    <tr>\n",
       "      <th>0</th>\n",
       "      <td>1946-11-01</td>\n",
       "      <td>1947</td>\n",
       "      <td>0</td>\n",
       "      <td>TRH</td>\n",
       "      <td>NYK</td>\n",
       "      <td>1300.0</td>\n",
       "      <td>1300.0000</td>\n",
       "      <td>0.640065</td>\n",
       "      <td>0.359935</td>\n",
       "      <td>1293.2767</td>\n",
       "      <td>1306.7233</td>\n",
       "      <td>66</td>\n",
       "      <td>68</td>\n",
       "      <td>False</td>\n",
       "    </tr>\n",
       "    <tr>\n",
       "      <th>1</th>\n",
       "      <td>1946-11-02</td>\n",
       "      <td>1947</td>\n",
       "      <td>0</td>\n",
       "      <td>CHS</td>\n",
       "      <td>NYK</td>\n",
       "      <td>1300.0</td>\n",
       "      <td>1306.7233</td>\n",
       "      <td>0.631101</td>\n",
       "      <td>0.368899</td>\n",
       "      <td>1309.6521</td>\n",
       "      <td>1297.0712</td>\n",
       "      <td>63</td>\n",
       "      <td>47</td>\n",
       "      <td>True</td>\n",
       "    </tr>\n",
       "    <tr>\n",
       "      <th>2</th>\n",
       "      <td>1946-11-02</td>\n",
       "      <td>1947</td>\n",
       "      <td>0</td>\n",
       "      <td>PRO</td>\n",
       "      <td>BOS</td>\n",
       "      <td>1300.0</td>\n",
       "      <td>1300.0000</td>\n",
       "      <td>0.640065</td>\n",
       "      <td>0.359935</td>\n",
       "      <td>1305.1542</td>\n",
       "      <td>1294.8458</td>\n",
       "      <td>59</td>\n",
       "      <td>53</td>\n",
       "      <td>True</td>\n",
       "    </tr>\n",
       "    <tr>\n",
       "      <th>3</th>\n",
       "      <td>1946-11-02</td>\n",
       "      <td>1947</td>\n",
       "      <td>0</td>\n",
       "      <td>STB</td>\n",
       "      <td>PIT</td>\n",
       "      <td>1300.0</td>\n",
       "      <td>1300.0000</td>\n",
       "      <td>0.640065</td>\n",
       "      <td>0.359935</td>\n",
       "      <td>1304.6908</td>\n",
       "      <td>1295.3092</td>\n",
       "      <td>56</td>\n",
       "      <td>51</td>\n",
       "      <td>True</td>\n",
       "    </tr>\n",
       "    <tr>\n",
       "      <th>4</th>\n",
       "      <td>1946-11-02</td>\n",
       "      <td>1947</td>\n",
       "      <td>0</td>\n",
       "      <td>DTF</td>\n",
       "      <td>WSC</td>\n",
       "      <td>1300.0</td>\n",
       "      <td>1300.0000</td>\n",
       "      <td>0.640065</td>\n",
       "      <td>0.359935</td>\n",
       "      <td>1279.6189</td>\n",
       "      <td>1320.3811</td>\n",
       "      <td>33</td>\n",
       "      <td>50</td>\n",
       "      <td>False</td>\n",
       "    </tr>\n",
       "  </tbody>\n",
       "</table>\n",
       "</div>"
      ],
      "text/plain": [
       "         date  season  neutral team1 team2  elo1_pre   elo2_pre  elo_prob1  \\\n",
       "0  1946-11-01    1947        0   TRH   NYK    1300.0  1300.0000   0.640065   \n",
       "1  1946-11-02    1947        0   CHS   NYK    1300.0  1306.7233   0.631101   \n",
       "2  1946-11-02    1947        0   PRO   BOS    1300.0  1300.0000   0.640065   \n",
       "3  1946-11-02    1947        0   STB   PIT    1300.0  1300.0000   0.640065   \n",
       "4  1946-11-02    1947        0   DTF   WSC    1300.0  1300.0000   0.640065   \n",
       "\n",
       "   elo_prob2  elo1_post  elo2_post  score1  score2 team1_wins  \n",
       "0   0.359935  1293.2767  1306.7233      66      68      False  \n",
       "1   0.368899  1309.6521  1297.0712      63      47       True  \n",
       "2   0.359935  1305.1542  1294.8458      59      53       True  \n",
       "3   0.359935  1304.6908  1295.3092      56      51       True  \n",
       "4   0.359935  1279.6189  1320.3811      33      50      False  "
      ]
     },
     "execution_count": 357,
     "metadata": {},
     "output_type": "execute_result"
    }
   ],
   "source": [
    "#Adding a new column in the dataframe with the home teams(team1) wins and losses \n",
    "y = pd.DataFrame(df[\"score1\"]>df[\"score2\"],index=np.arange(len(df[\"score1\"])),columns=[\"team1_wins\"])\n",
    "X = df.join(y)\n",
    "X.head()"
   ]
  },
  {
   "cell_type": "markdown",
   "metadata": {},
   "source": [
    "From the above dataset, we can see that we do not really have any use from the columns- date, season, neutral, elo1_pre, elo2_pre. \n",
    "We shall drop those columns from the dataframe for further analysis"
   ]
  },
  {
   "cell_type": "code",
   "execution_count": 358,
   "metadata": {
    "collapsed": false
   },
   "outputs": [],
   "source": [
    "#Dropping unnecessary columns from the dataframe \n",
    "\n",
    "X = X.drop(['neutral'],axis=1)\n",
    "X = X.drop(['date'],axis=1)\n",
    "X = X.drop(['season'],axis=1)"
   ]
  },
  {
   "cell_type": "code",
   "execution_count": 359,
   "metadata": {
    "collapsed": false
   },
   "outputs": [
    {
     "data": {
      "text/html": [
       "<div>\n",
       "<table border=\"1\" class=\"dataframe\">\n",
       "  <thead>\n",
       "    <tr style=\"text-align: right;\">\n",
       "      <th></th>\n",
       "      <th>team1</th>\n",
       "      <th>team2</th>\n",
       "      <th>elo1_pre</th>\n",
       "      <th>elo2_pre</th>\n",
       "      <th>elo_prob1</th>\n",
       "      <th>elo_prob2</th>\n",
       "      <th>elo1_post</th>\n",
       "      <th>elo2_post</th>\n",
       "      <th>score1</th>\n",
       "      <th>score2</th>\n",
       "      <th>team1_wins</th>\n",
       "    </tr>\n",
       "  </thead>\n",
       "  <tbody>\n",
       "    <tr>\n",
       "      <th>0</th>\n",
       "      <td>TRH</td>\n",
       "      <td>NYK</td>\n",
       "      <td>1300.0</td>\n",
       "      <td>1300.0000</td>\n",
       "      <td>0.640065</td>\n",
       "      <td>0.359935</td>\n",
       "      <td>1293.2767</td>\n",
       "      <td>1306.7233</td>\n",
       "      <td>66</td>\n",
       "      <td>68</td>\n",
       "      <td>False</td>\n",
       "    </tr>\n",
       "    <tr>\n",
       "      <th>1</th>\n",
       "      <td>CHS</td>\n",
       "      <td>NYK</td>\n",
       "      <td>1300.0</td>\n",
       "      <td>1306.7233</td>\n",
       "      <td>0.631101</td>\n",
       "      <td>0.368899</td>\n",
       "      <td>1309.6521</td>\n",
       "      <td>1297.0712</td>\n",
       "      <td>63</td>\n",
       "      <td>47</td>\n",
       "      <td>True</td>\n",
       "    </tr>\n",
       "    <tr>\n",
       "      <th>2</th>\n",
       "      <td>PRO</td>\n",
       "      <td>BOS</td>\n",
       "      <td>1300.0</td>\n",
       "      <td>1300.0000</td>\n",
       "      <td>0.640065</td>\n",
       "      <td>0.359935</td>\n",
       "      <td>1305.1542</td>\n",
       "      <td>1294.8458</td>\n",
       "      <td>59</td>\n",
       "      <td>53</td>\n",
       "      <td>True</td>\n",
       "    </tr>\n",
       "    <tr>\n",
       "      <th>3</th>\n",
       "      <td>STB</td>\n",
       "      <td>PIT</td>\n",
       "      <td>1300.0</td>\n",
       "      <td>1300.0000</td>\n",
       "      <td>0.640065</td>\n",
       "      <td>0.359935</td>\n",
       "      <td>1304.6908</td>\n",
       "      <td>1295.3092</td>\n",
       "      <td>56</td>\n",
       "      <td>51</td>\n",
       "      <td>True</td>\n",
       "    </tr>\n",
       "    <tr>\n",
       "      <th>4</th>\n",
       "      <td>DTF</td>\n",
       "      <td>WSC</td>\n",
       "      <td>1300.0</td>\n",
       "      <td>1300.0000</td>\n",
       "      <td>0.640065</td>\n",
       "      <td>0.359935</td>\n",
       "      <td>1279.6189</td>\n",
       "      <td>1320.3811</td>\n",
       "      <td>33</td>\n",
       "      <td>50</td>\n",
       "      <td>False</td>\n",
       "    </tr>\n",
       "  </tbody>\n",
       "</table>\n",
       "</div>"
      ],
      "text/plain": [
       "  team1 team2  elo1_pre   elo2_pre  elo_prob1  elo_prob2  elo1_post  \\\n",
       "0   TRH   NYK    1300.0  1300.0000   0.640065   0.359935  1293.2767   \n",
       "1   CHS   NYK    1300.0  1306.7233   0.631101   0.368899  1309.6521   \n",
       "2   PRO   BOS    1300.0  1300.0000   0.640065   0.359935  1305.1542   \n",
       "3   STB   PIT    1300.0  1300.0000   0.640065   0.359935  1304.6908   \n",
       "4   DTF   WSC    1300.0  1300.0000   0.640065   0.359935  1279.6189   \n",
       "\n",
       "   elo2_post  score1  score2 team1_wins  \n",
       "0  1306.7233      66      68      False  \n",
       "1  1297.0712      63      47       True  \n",
       "2  1294.8458      59      53       True  \n",
       "3  1295.3092      56      51       True  \n",
       "4  1320.3811      33      50      False  "
      ]
     },
     "execution_count": 359,
     "metadata": {},
     "output_type": "execute_result"
    }
   ],
   "source": [
    "X.head()"
   ]
  },
  {
   "cell_type": "code",
   "execution_count": 456,
   "metadata": {
    "collapsed": false
   },
   "outputs": [
    {
     "data": {
      "text/plain": [
       "<matplotlib.axes._subplots.AxesSubplot at 0x12735f450>"
      ]
     },
     "execution_count": 456,
     "metadata": {},
     "output_type": "execute_result"
    },
    {
     "data": {
      "image/png": "[encoded data removed]",
      "text/plain": [
       "<Figure size 432x288 with 2 Axes>"
      ]
     },
     "metadata": {},
     "output_type": "display_data"
    }
   ],
   "source": [
    "# Finding correlation among certain columns from df\n",
    "cor = X[['elo1_pre','elo2_pre','elo_prob1','elo_prob2','elo1_post','elo2_post','score1','score2']].corr()\n",
    "\n",
    "sns.heatmap(cor, square = True,linewidths= 1,cmap=\"YlGnBu\")"
   ]
  },
  {
   "cell_type": "markdown",
   "metadata": {},
   "source": [
    "As we can see from the correlation above, the probabilities and elo post ratings are highly co-related. Since this is what we obtained from our classifiers previously as well, we will further extract more features from the probabilities and post game Elo ratings to get better prediction accuracy"
   ]
  },
  {
   "cell_type": "code",
   "execution_count": 361,
   "metadata": {
    "collapsed": false
   },
   "outputs": [],
   "source": [
    "#Adding additional features into the dataframe using the probabilities and ratings from Elo \n",
    "\n",
    "#Difference between post match ratings of the two teams\n",
    "x0 = pd.DataFrame(X['elo2_post']-X['elo1_post'])\n",
    "x0 = x0.rename(columns={0:'post_diff'})\n",
    "\n",
    "#Inverse of the probability of team 1\n",
    "x1 = pd.DataFrame(1/X['elo_prob1'])\n",
    "x1 = x1.rename(columns={'elo_prob1':'prob1_inv'})\n",
    "\n",
    "#Inverse of probability of team 2\n",
    "x2 = pd.DataFrame(1/X['elo_prob2'])\n",
    "x2 = x2.rename(columns={'elo_prob2':'prob2_inv'})\n",
    "\n",
    "#Product of probabilities\n",
    "x3 = pd.DataFrame(X['elo_prob1']*X['elo_prob2'])\n",
    "x3 = x3.rename(columns={0:'prod_probs'})\n",
    "\n",
    "#Final dataframe after concatenating new features \n",
    "X_fin = pd.concat([X,x0,x1,x2,x3],axis=1)"
   ]
  },
  {
   "cell_type": "code",
   "execution_count": 362,
   "metadata": {
    "collapsed": false
   },
   "outputs": [
    {
     "data": {
      "text/html": [
       "<div>\n",
       "<table border=\"1\" class=\"dataframe\">\n",
       "  <thead>\n",
       "    <tr style=\"text-align: right;\">\n",
       "      <th></th>\n",
       "      <th>team1</th>\n",
       "      <th>team2</th>\n",
       "      <th>elo1_pre</th>\n",
       "      <th>elo2_pre</th>\n",
       "      <th>elo_prob1</th>\n",
       "      <th>elo_prob2</th>\n",
       "      <th>elo1_post</th>\n",
       "      <th>elo2_post</th>\n",
       "      <th>score1</th>\n",
       "      <th>score2</th>\n",
       "      <th>team1_wins</th>\n",
       "      <th>post_diff</th>\n",
       "      <th>prob1_inv</th>\n",
       "      <th>prob2_inv</th>\n",
       "      <th>prod_probs</th>\n",
       "    </tr>\n",
       "  </thead>\n",
       "  <tbody>\n",
       "    <tr>\n",
       "      <th>0</th>\n",
       "      <td>TRH</td>\n",
       "      <td>NYK</td>\n",
       "      <td>1300.0</td>\n",
       "      <td>1300.0000</td>\n",
       "      <td>0.640065</td>\n",
       "      <td>0.359935</td>\n",
       "      <td>1293.2767</td>\n",
       "      <td>1306.7233</td>\n",
       "      <td>66</td>\n",
       "      <td>68</td>\n",
       "      <td>False</td>\n",
       "      <td>13.4466</td>\n",
       "      <td>1.562341</td>\n",
       "      <td>2.778279</td>\n",
       "      <td>0.230382</td>\n",
       "    </tr>\n",
       "    <tr>\n",
       "      <th>1</th>\n",
       "      <td>CHS</td>\n",
       "      <td>NYK</td>\n",
       "      <td>1300.0</td>\n",
       "      <td>1306.7233</td>\n",
       "      <td>0.631101</td>\n",
       "      <td>0.368899</td>\n",
       "      <td>1309.6521</td>\n",
       "      <td>1297.0712</td>\n",
       "      <td>63</td>\n",
       "      <td>47</td>\n",
       "      <td>True</td>\n",
       "      <td>-12.5809</td>\n",
       "      <td>1.584532</td>\n",
       "      <td>2.710770</td>\n",
       "      <td>0.232812</td>\n",
       "    </tr>\n",
       "    <tr>\n",
       "      <th>2</th>\n",
       "      <td>PRO</td>\n",
       "      <td>BOS</td>\n",
       "      <td>1300.0</td>\n",
       "      <td>1300.0000</td>\n",
       "      <td>0.640065</td>\n",
       "      <td>0.359935</td>\n",
       "      <td>1305.1542</td>\n",
       "      <td>1294.8458</td>\n",
       "      <td>59</td>\n",
       "      <td>53</td>\n",
       "      <td>True</td>\n",
       "      <td>-10.3084</td>\n",
       "      <td>1.562341</td>\n",
       "      <td>2.778279</td>\n",
       "      <td>0.230382</td>\n",
       "    </tr>\n",
       "    <tr>\n",
       "      <th>3</th>\n",
       "      <td>STB</td>\n",
       "      <td>PIT</td>\n",
       "      <td>1300.0</td>\n",
       "      <td>1300.0000</td>\n",
       "      <td>0.640065</td>\n",
       "      <td>0.359935</td>\n",
       "      <td>1304.6908</td>\n",
       "      <td>1295.3092</td>\n",
       "      <td>56</td>\n",
       "      <td>51</td>\n",
       "      <td>True</td>\n",
       "      <td>-9.3816</td>\n",
       "      <td>1.562341</td>\n",
       "      <td>2.778279</td>\n",
       "      <td>0.230382</td>\n",
       "    </tr>\n",
       "    <tr>\n",
       "      <th>4</th>\n",
       "      <td>DTF</td>\n",
       "      <td>WSC</td>\n",
       "      <td>1300.0</td>\n",
       "      <td>1300.0000</td>\n",
       "      <td>0.640065</td>\n",
       "      <td>0.359935</td>\n",
       "      <td>1279.6189</td>\n",
       "      <td>1320.3811</td>\n",
       "      <td>33</td>\n",
       "      <td>50</td>\n",
       "      <td>False</td>\n",
       "      <td>40.7622</td>\n",
       "      <td>1.562341</td>\n",
       "      <td>2.778279</td>\n",
       "      <td>0.230382</td>\n",
       "    </tr>\n",
       "  </tbody>\n",
       "</table>\n",
       "</div>"
      ],
      "text/plain": [
       "  team1 team2  elo1_pre   elo2_pre  elo_prob1  elo_prob2  elo1_post  \\\n",
       "0   TRH   NYK    1300.0  1300.0000   0.640065   0.359935  1293.2767   \n",
       "1   CHS   NYK    1300.0  1306.7233   0.631101   0.368899  1309.6521   \n",
       "2   PRO   BOS    1300.0  1300.0000   0.640065   0.359935  1305.1542   \n",
       "3   STB   PIT    1300.0  1300.0000   0.640065   0.359935  1304.6908   \n",
       "4   DTF   WSC    1300.0  1300.0000   0.640065   0.359935  1279.6189   \n",
       "\n",
       "   elo2_post  score1  score2 team1_wins  post_diff  prob1_inv  prob2_inv  \\\n",
       "0  1306.7233      66      68      False    13.4466   1.562341   2.778279   \n",
       "1  1297.0712      63      47       True   -12.5809   1.584532   2.710770   \n",
       "2  1294.8458      59      53       True   -10.3084   1.562341   2.778279   \n",
       "3  1295.3092      56      51       True    -9.3816   1.562341   2.778279   \n",
       "4  1320.3811      33      50      False    40.7622   1.562341   2.778279   \n",
       "\n",
       "   prod_probs  \n",
       "0    0.230382  \n",
       "1    0.232812  \n",
       "2    0.230382  \n",
       "3    0.230382  \n",
       "4    0.230382  "
      ]
     },
     "execution_count": 362,
     "metadata": {},
     "output_type": "execute_result"
    }
   ],
   "source": [
    "X_fin.head()"
   ]
  },
  {
   "cell_type": "code",
   "execution_count": 363,
   "metadata": {
    "collapsed": true
   },
   "outputs": [],
   "source": [
    "#Adding percent of scores feature\n",
    "per1 = []\n",
    "per2 = []\n",
    "for i,x in X_fin.iterrows():\n",
    "    per1.append(float(x['score1'])/(x['score1'] + x['score2']))\n",
    "    per2.append(float(x['score2'])/(x['score1'] + x['score2']))\n",
    "    \n",
    "\n",
    "X_fin['per1'] = pd.DataFrame(per1, index=X_fin.index)\n",
    "X_fin['per2'] = pd.DataFrame(per2, index=X_fin.index)\n",
    "    "
   ]
  },
  {
   "cell_type": "code",
   "execution_count": 364,
   "metadata": {
    "collapsed": false
   },
   "outputs": [
    {
     "data": {
      "text/html": [
       "<div>\n",
       "<table border=\"1\" class=\"dataframe\">\n",
       "  <thead>\n",
       "    <tr style=\"text-align: right;\">\n",
       "      <th></th>\n",
       "      <th>team1</th>\n",
       "      <th>team2</th>\n",
       "      <th>elo1_pre</th>\n",
       "      <th>elo2_pre</th>\n",
       "      <th>elo_prob1</th>\n",
       "      <th>elo_prob2</th>\n",
       "      <th>elo1_post</th>\n",
       "      <th>elo2_post</th>\n",
       "      <th>score1</th>\n",
       "      <th>score2</th>\n",
       "      <th>team1_wins</th>\n",
       "      <th>post_diff</th>\n",
       "      <th>prob1_inv</th>\n",
       "      <th>prob2_inv</th>\n",
       "      <th>prod_probs</th>\n",
       "      <th>per1</th>\n",
       "      <th>per2</th>\n",
       "    </tr>\n",
       "  </thead>\n",
       "  <tbody>\n",
       "    <tr>\n",
       "      <th>0</th>\n",
       "      <td>TRH</td>\n",
       "      <td>NYK</td>\n",
       "      <td>1300.0</td>\n",
       "      <td>1300.0000</td>\n",
       "      <td>0.640065</td>\n",
       "      <td>0.359935</td>\n",
       "      <td>1293.2767</td>\n",
       "      <td>1306.7233</td>\n",
       "      <td>66</td>\n",
       "      <td>68</td>\n",
       "      <td>False</td>\n",
       "      <td>13.4466</td>\n",
       "      <td>1.562341</td>\n",
       "      <td>2.778279</td>\n",
       "      <td>0.230382</td>\n",
       "      <td>0.492537</td>\n",
       "      <td>0.507463</td>\n",
       "    </tr>\n",
       "    <tr>\n",
       "      <th>1</th>\n",
       "      <td>CHS</td>\n",
       "      <td>NYK</td>\n",
       "      <td>1300.0</td>\n",
       "      <td>1306.7233</td>\n",
       "      <td>0.631101</td>\n",
       "      <td>0.368899</td>\n",
       "      <td>1309.6521</td>\n",
       "      <td>1297.0712</td>\n",
       "      <td>63</td>\n",
       "      <td>47</td>\n",
       "      <td>True</td>\n",
       "      <td>-12.5809</td>\n",
       "      <td>1.584532</td>\n",
       "      <td>2.710770</td>\n",
       "      <td>0.232812</td>\n",
       "      <td>0.572727</td>\n",
       "      <td>0.427273</td>\n",
       "    </tr>\n",
       "    <tr>\n",
       "      <th>2</th>\n",
       "      <td>PRO</td>\n",
       "      <td>BOS</td>\n",
       "      <td>1300.0</td>\n",
       "      <td>1300.0000</td>\n",
       "      <td>0.640065</td>\n",
       "      <td>0.359935</td>\n",
       "      <td>1305.1542</td>\n",
       "      <td>1294.8458</td>\n",
       "      <td>59</td>\n",
       "      <td>53</td>\n",
       "      <td>True</td>\n",
       "      <td>-10.3084</td>\n",
       "      <td>1.562341</td>\n",
       "      <td>2.778279</td>\n",
       "      <td>0.230382</td>\n",
       "      <td>0.526786</td>\n",
       "      <td>0.473214</td>\n",
       "    </tr>\n",
       "    <tr>\n",
       "      <th>3</th>\n",
       "      <td>STB</td>\n",
       "      <td>PIT</td>\n",
       "      <td>1300.0</td>\n",
       "      <td>1300.0000</td>\n",
       "      <td>0.640065</td>\n",
       "      <td>0.359935</td>\n",
       "      <td>1304.6908</td>\n",
       "      <td>1295.3092</td>\n",
       "      <td>56</td>\n",
       "      <td>51</td>\n",
       "      <td>True</td>\n",
       "      <td>-9.3816</td>\n",
       "      <td>1.562341</td>\n",
       "      <td>2.778279</td>\n",
       "      <td>0.230382</td>\n",
       "      <td>0.523364</td>\n",
       "      <td>0.476636</td>\n",
       "    </tr>\n",
       "    <tr>\n",
       "      <th>4</th>\n",
       "      <td>DTF</td>\n",
       "      <td>WSC</td>\n",
       "      <td>1300.0</td>\n",
       "      <td>1300.0000</td>\n",
       "      <td>0.640065</td>\n",
       "      <td>0.359935</td>\n",
       "      <td>1279.6189</td>\n",
       "      <td>1320.3811</td>\n",
       "      <td>33</td>\n",
       "      <td>50</td>\n",
       "      <td>False</td>\n",
       "      <td>40.7622</td>\n",
       "      <td>1.562341</td>\n",
       "      <td>2.778279</td>\n",
       "      <td>0.230382</td>\n",
       "      <td>0.397590</td>\n",
       "      <td>0.602410</td>\n",
       "    </tr>\n",
       "  </tbody>\n",
       "</table>\n",
       "</div>"
      ],
      "text/plain": [
       "  team1 team2  elo1_pre   elo2_pre  elo_prob1  elo_prob2  elo1_post  \\\n",
       "0   TRH   NYK    1300.0  1300.0000   0.640065   0.359935  1293.2767   \n",
       "1   CHS   NYK    1300.0  1306.7233   0.631101   0.368899  1309.6521   \n",
       "2   PRO   BOS    1300.0  1300.0000   0.640065   0.359935  1305.1542   \n",
       "3   STB   PIT    1300.0  1300.0000   0.640065   0.359935  1304.6908   \n",
       "4   DTF   WSC    1300.0  1300.0000   0.640065   0.359935  1279.6189   \n",
       "\n",
       "   elo2_post  score1  score2 team1_wins  post_diff  prob1_inv  prob2_inv  \\\n",
       "0  1306.7233      66      68      False    13.4466   1.562341   2.778279   \n",
       "1  1297.0712      63      47       True   -12.5809   1.584532   2.710770   \n",
       "2  1294.8458      59      53       True   -10.3084   1.562341   2.778279   \n",
       "3  1295.3092      56      51       True    -9.3816   1.562341   2.778279   \n",
       "4  1320.3811      33      50      False    40.7622   1.562341   2.778279   \n",
       "\n",
       "   prod_probs      per1      per2  \n",
       "0    0.230382  0.492537  0.507463  \n",
       "1    0.232812  0.572727  0.427273  \n",
       "2    0.230382  0.526786  0.473214  \n",
       "3    0.230382  0.523364  0.476636  \n",
       "4    0.230382  0.397590  0.602410  "
      ]
     },
     "execution_count": 364,
     "metadata": {},
     "output_type": "execute_result"
    }
   ],
   "source": [
    "X_fin.head()"
   ]
  },
  {
   "cell_type": "markdown",
   "metadata": {},
   "source": [
    "# Regression Model"
   ]
  },
  {
   "cell_type": "code",
   "execution_count": 405,
   "metadata": {
    "collapsed": false
   },
   "outputs": [],
   "source": [
    "# Splitting the data into training/testing sets\n",
    "from sklearn.model_selection import train_test_split\n",
    "X_train=X_fin.sample(frac=0.7,random_state=0)\n",
    "X_test=X_fin.drop(X_train.index)"
   ]
  },
  {
   "cell_type": "code",
   "execution_count": 437,
   "metadata": {
    "collapsed": false
   },
   "outputs": [
    {
     "data": {
      "text/plain": [
       "LinearRegression(copy_X=True, fit_intercept=True, n_jobs=1, normalize=False)"
      ]
     },
     "execution_count": 437,
     "metadata": {},
     "output_type": "execute_result"
    }
   ],
   "source": [
    "#Building a Linear Regression Model\n",
    "reg1 = LinearRegression()\n",
    "\n",
    "#Selecting only numeric features from the dataframe for our model\n",
    "fit_features = ['elo1_pre','elo1_post','elo_prob1','post_diff','prob1_inv','prod_probs','per1','score2']\n",
    "X_tr = X_train[fit_features]\n",
    "Y_tr = X_train['score1']\n",
    "\n",
    "#Fitting a model to predict score1 for home teams\n",
    "reg1.fit(X_tr ,Y_tr)"
   ]
  },
  {
   "cell_type": "code",
   "execution_count": 438,
   "metadata": {
    "collapsed": false
   },
   "outputs": [
    {
     "data": {
      "text/plain": [
       "0.98694300605551299"
      ]
     },
     "execution_count": 438,
     "metadata": {},
     "output_type": "execute_result"
    }
   ],
   "source": [
    "reg1.score(X_tr,Y_tr)"
   ]
  },
  {
   "cell_type": "code",
   "execution_count": 439,
   "metadata": {
    "collapsed": false
   },
   "outputs": [
    {
     "data": {
      "text/plain": [
       "array([  62.64943461,   75.72491929,   75.86612073, ...,  110.93751867,\n",
       "         91.38325139,   98.59161446])"
      ]
     },
     "execution_count": 439,
     "metadata": {},
     "output_type": "execute_result"
    }
   ],
   "source": [
    "X_te = X_test[fit_features]\n",
    "Y_te = X_test['score1']\n",
    "Y = reg1.predict(X_te)\n",
    "Y"
   ]
  },
  {
   "cell_type": "code",
   "execution_count": 440,
   "metadata": {
    "collapsed": false
   },
   "outputs": [
    {
     "data": {
      "text/plain": [
       "0.97969997232510497"
      ]
     },
     "execution_count": 440,
     "metadata": {},
     "output_type": "execute_result"
    }
   ],
   "source": [
    "reg1.score(X_te, Y_te)"
   ]
  },
  {
   "cell_type": "code",
   "execution_count": 441,
   "metadata": {
    "collapsed": false
   },
   "outputs": [
    {
     "name": "stdout",
     "output_type": "stream",
     "text": [
      "Mean squared error: 4.50\n",
      "Variance score: 0.98\n"
     ]
    }
   ],
   "source": [
    "# Calculating mean squared error\n",
    "print(\"Mean squared error: %.2f\" % mean_squared_error(Y_te, Y))\n",
    "\n",
    "# Calculating variance score\n",
    "print('Variance score: %.2f' % r2_score(Y_te, Y))"
   ]
  },
  {
   "cell_type": "code",
   "execution_count": 442,
   "metadata": {
    "collapsed": false
   },
   "outputs": [
    {
     "data": {
      "text/plain": [
       "LinearRegression(copy_X=True, fit_intercept=True, n_jobs=1, normalize=False)"
      ]
     },
     "execution_count": 442,
     "metadata": {},
     "output_type": "execute_result"
    }
   ],
   "source": [
    "#Building 2nd Linear Regression Model\n",
    "reg2 = LinearRegression()\n",
    "\n",
    "#Selecting only numeric features from the dataframe for our model\n",
    "fit_features = ['elo2_pre','elo2_post','elo_prob2','post_diff','prob2_inv','prod_probs','per2']\n",
    "X_tr = X_train[fit_features]\n",
    "Y_tr = X_train['score2']\n",
    "\n",
    "#Fitting a model to predict score2 for away teams\n",
    "reg2.fit(X_tr ,Y_tr)"
   ]
  },
  {
   "cell_type": "code",
   "execution_count": 443,
   "metadata": {
    "collapsed": false
   },
   "outputs": [
    {
     "data": {
      "text/plain": [
       "0.19678614524919025"
      ]
     },
     "execution_count": 443,
     "metadata": {},
     "output_type": "execute_result"
    }
   ],
   "source": [
    "reg2.score(X_tr,Y_tr)"
   ]
  },
  {
   "cell_type": "code",
   "execution_count": 444,
   "metadata": {
    "collapsed": false
   },
   "outputs": [
    {
     "data": {
      "text/plain": [
       "array([  98.23517282,   94.80774919,   97.77043767, ...,   98.33839949,\n",
       "        102.65257855,  100.23941335])"
      ]
     },
     "execution_count": 444,
     "metadata": {},
     "output_type": "execute_result"
    }
   ],
   "source": [
    "X_te = X_test[fit_features]\n",
    "Y_te = X_test['score2']\n",
    "Y = reg2.predict(X_te)\n",
    "Y"
   ]
  },
  {
   "cell_type": "code",
   "execution_count": 445,
   "metadata": {
    "collapsed": false
   },
   "outputs": [
    {
     "data": {
      "text/plain": [
       "0.19672420536324331"
      ]
     },
     "execution_count": 445,
     "metadata": {},
     "output_type": "execute_result"
    }
   ],
   "source": [
    "reg2.score(X_te, Y_te)"
   ]
  },
  {
   "cell_type": "code",
   "execution_count": 451,
   "metadata": {
    "collapsed": false
   },
   "outputs": [
    {
     "data": {
      "text/plain": [
       "LogisticRegression(C=1.0, class_weight=None, dual=False, fit_intercept=True,\n",
       "          intercept_scaling=1, max_iter=100, multi_class='ovr', n_jobs=1,\n",
       "          penalty='l2', random_state=None, solver='liblinear', tol=0.0001,\n",
       "          verbose=0, warm_start=False)"
      ]
     },
     "execution_count": 451,
     "metadata": {},
     "output_type": "execute_result"
    }
   ],
   "source": [
    "#Building a Logistic Regression classifier to predict home team wins \n",
    "classifier = LogisticRegression()\n",
    "\n",
    "fit_features = ['elo1_post','elo2_post','elo_prob1','elo_prob2','per1','per2']\n",
    "x = X_train[fit_features]\n",
    "y = X_train['team1_wins']\n",
    "\n",
    "classifier.fit(x ,y)"
   ]
  },
  {
   "cell_type": "code",
   "execution_count": 452,
   "metadata": {
    "collapsed": false
   },
   "outputs": [
    {
     "data": {
      "text/plain": [
       "0.95688370310437343"
      ]
     },
     "execution_count": 452,
     "metadata": {},
     "output_type": "execute_result"
    }
   ],
   "source": [
    "classifier.score(x,y)"
   ]
  },
  {
   "cell_type": "code",
   "execution_count": 454,
   "metadata": {
    "collapsed": false
   },
   "outputs": [
    {
     "data": {
      "text/plain": [
       "array([ True,  True,  True, ...,  True, False,  True], dtype=bool)"
      ]
     },
     "execution_count": 454,
     "metadata": {},
     "output_type": "execute_result"
    }
   ],
   "source": [
    "X_te = X_test[fit_features]\n",
    "Y_te = X_test['team1_wins']\n",
    "Y = classifier.predict(X_te)\n",
    "Y"
   ]
  },
  {
   "cell_type": "code",
   "execution_count": 455,
   "metadata": {
    "collapsed": false
   },
   "outputs": [
    {
     "data": {
      "text/plain": [
       "0.95801868044515104"
      ]
     },
     "execution_count": 455,
     "metadata": {},
     "output_type": "execute_result"
    }
   ],
   "source": [
    "classifier.score(X_te, Y_te)"
   ]
  },
  {
   "cell_type": "code",
   "execution_count": 446,
   "metadata": {
    "collapsed": false
   },
   "outputs": [
    {
     "name": "stdout",
     "output_type": "stream",
     "text": [
      "Mean squared error: 163.00\n",
      "Variance score: 0.20\n"
     ]
    }
   ],
   "source": [
    "# Calculating mean squared error\n",
    "print(\"Mean squared error: %.2f\" % mean_squared_error(Y_te, Y))\n",
    "\n",
    "# Calculating variance score\n",
    "print('Variance score: %.2f' % r2_score(Y_te, Y))"
   ]
  },
  {
   "cell_type": "code",
   "execution_count": 428,
   "metadata": {
    "collapsed": false
   },
   "outputs": [
    {
     "data": {
      "text/plain": [
       "LogisticRegression(C=1.0, class_weight=None, dual=False, fit_intercept=True,\n",
       "          intercept_scaling=1, max_iter=100, multi_class='ovr', n_jobs=1,\n",
       "          penalty='l2', random_state=None, solver='liblinear', tol=0.0001,\n",
       "          verbose=0, warm_start=False)"
      ]
     },
     "execution_count": 428,
     "metadata": {},
     "output_type": "execute_result"
    }
   ],
   "source": [
    "#Building a Logistic Regression Model\n",
    "reg3 = LogisticRegression()\n",
    "\n",
    "#Selecting only numeric features from the dataframe for our model\n",
    "fit_features = ['elo1_pre','elo1_post','elo_prob1','post_diff','prob1_inv','prod_probs','per1']\n",
    "X_tr = X_train[fit_features]\n",
    "Y_tr = X_train['score1']\n",
    "\n",
    "#Fitting a model to predict score1 for home teams\n",
    "reg3.fit(X_tr ,Y_tr)"
   ]
  },
  {
   "cell_type": "code",
   "execution_count": 429,
   "metadata": {
    "collapsed": false
   },
   "outputs": [
    {
     "data": {
      "text/plain": [
       "0.032598049652940428"
      ]
     },
     "execution_count": 429,
     "metadata": {},
     "output_type": "execute_result"
    }
   ],
   "source": [
    "reg3.score(X_tr,Y_tr)"
   ]
  },
  {
   "cell_type": "code",
   "execution_count": 430,
   "metadata": {
    "collapsed": false
   },
   "outputs": [
    {
     "data": {
      "text/plain": [
       "array([107, 107, 107, ..., 107,  97, 106])"
      ]
     },
     "execution_count": 430,
     "metadata": {},
     "output_type": "execute_result"
    }
   ],
   "source": [
    "X_te = X_test[fit_features]\n",
    "Y_te = X_test['score2']\n",
    "Y = reg3.predict(X_te)\n",
    "Y"
   ]
  },
  {
   "cell_type": "code",
   "execution_count": 431,
   "metadata": {
    "collapsed": false
   },
   "outputs": [
    {
     "data": {
      "text/plain": [
       "0.022903418124006359"
      ]
     },
     "execution_count": 431,
     "metadata": {},
     "output_type": "execute_result"
    }
   ],
   "source": [
    "reg3.score(X_te, Y_te)"
   ]
  },
  {
   "cell_type": "markdown",
   "metadata": {},
   "source": [
    "The Elo ratings don't seem to be enough to give consistent results for the two different regression models that I used - Linear and Logistic. Although Linear regression  gives us slightly better results, I don't think they are acuurate enough to predict team scores. Maybe the data provided is not sufficient to build a good regression model, where we can see clearer results. I tried to extract features from the given probabilities and ratings, but they did not seem to provide much additional benefit to improve our regression model. The classifier that predicts the home team wins using Logistic Regression had pretty good accuracy. "
   ]
  }
 ],
 "metadata": {
  "anaconda-cloud": {},
  "kernelspec": {
   "display_name": "Python [default]",
   "language": "python",
   "name": "python2"
  },
  "language_info": {
   "codemirror_mode": {
    "name": "ipython",
    "version": 2
   },
   "file_extension": ".py",
   "mimetype": "text/x-python",
   "name": "python",
   "nbconvert_exporter": "python",
   "pygments_lexer": "ipython2",
   "version": "2.7.12"
  }
 },
 "nbformat": 4,
 "nbformat_minor": 1
}
